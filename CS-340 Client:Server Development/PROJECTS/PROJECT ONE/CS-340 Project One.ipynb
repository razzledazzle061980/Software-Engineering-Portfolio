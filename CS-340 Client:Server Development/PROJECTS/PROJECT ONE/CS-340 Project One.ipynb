{
 "cells": [
  {
   "cell_type": "code",
   "execution_count": 1,
   "metadata": {},
   "outputs": [
    {
     "name": "stdout",
     "output_type": "stream",
     "text": [
      "Connection successful\n",
      "Insert result:   True\n",
      "Read result:   <pymongo.cursor.Cursor object at 0x7f02cb44b550>\n",
      "Update result:   [\n",
      "  {\n",
      "    \"_id\": {\n",
      "      \"$oid\": \"63dfa311230450368301add0\"\n",
      "    },\n",
      "    \"1\": 10012,\n",
      "    \"age_upon_outcome\": \"11 years\",\n",
      "    \"animal_id\": \"A10012\",\n",
      "    \"animal_type\": \"Dog\",\n",
      "    \"breed\": \"Beagle\",\n",
      "    \"color\": \"Black/White/Tan\",\n",
      "    \"date_of_birth\": \"2012-04-05\",\n",
      "    \"datetime\": \"08:43:03\",\n",
      "    \"monthyear\": \"2023-02-05\",\n",
      "    \"name\": \"Maximus\",\n",
      "    \"outcome_subtype\": \"\",\n",
      "    \"outcome_type\": \"Purchase\",\n",
      "    \"sex_upon_outcome\": \"Neutered Male\",\n",
      "    \"location_lat\": 35.15987,\n",
      "    \"location_long\": -84.875504,\n",
      "    \"age_upon_outcome_in_weeks\": 5\n",
      "  }\n",
      "]\n",
      "Delete result:   {\n",
      "  \"n\": 1,\n",
      "  \"ok\": 1.0\n",
      "}\n"
     ]
    }
   ],
   "source": [
    "from animalShelter import AnimalShelter\n",
    "\n",
    "\n",
    "# Instantiate AnimalShelter\n",
    "shelter = AnimalShelter(\"localhost\", 46319, \"AAC\", \"animals\", \"aacuser\", \"kxMi8CPhAJQj\")\n",
    "\n",
    "# Define animal data to be insert\n",
    "data =  {\n",
    "        \"1\": 10012,\n",
    "        \"age_upon_outcome\" : \"11 years\",\n",
    "        \"animal_id\" : \"A10012\",\n",
    "        \"animal_type\" : \"Dog\",\n",
    "        \"breed\" : \"Beagle\",\n",
    "        \"color\" : \"Black/White/Tan\",\n",
    "        \"date_of_birth\" : \"2012-04-05\",\n",
    "        \"datetime\" : \"08:43:03\",\n",
    "        \"monthyear\" : \"2023-02-05\",\n",
    "        \"name\" : \"Max\",\n",
    "        \"outcome_subtype\" : \"\",\n",
    "        \"outcome_type\" : \"Purchase\",\n",
    "        \"sex_upon_outcome\" : \"Neutered Male\",\n",
    "        \"location_lat\" : 35.159870,\n",
    "        \"location_long\" : -84.875504,\n",
    "        \"age_upon_outcome_in_weeks\" : 5\n",
    "       }\n",
    "# Define animal data to search\n",
    "animal = {\"animal_id\": \"A10012\"}\n",
    "\n",
    "# Insert data into database\n",
    "insertResult = shelter.create(data)\n",
    "print(\"Insert result:  \", insertResult)\n",
    "\n",
    "# Read data from database\n",
    "readResult = shelter.read(animal)\n",
    "print(\"Read result:  \", readResult)\n",
    "\n",
    "# Update data in database\n",
    "updateResult = shelter.update({\"animal_id\": \"A10012\"}, {\"name\": \"Maximus\"})\n",
    "print(\"Update result:  \", updateResult)\n",
    "\n",
    "# Delete data in database\n",
    "deleteResult = shelter.delete(animal)\n",
    "print(\"Delete result:  \", deleteResult)"
   ]
  },
  {
   "cell_type": "code",
   "execution_count": null,
   "metadata": {},
   "outputs": [],
   "source": []
  }
 ],
 "metadata": {
  "kernelspec": {
   "display_name": "Python 3",
   "language": "python",
   "name": "python3"
  },
  "language_info": {
   "codemirror_mode": {
    "name": "ipython",
    "version": 3
   },
   "file_extension": ".py",
   "mimetype": "text/x-python",
   "name": "python",
   "nbconvert_exporter": "python",
   "pygments_lexer": "ipython3",
   "version": "3.11.1"
  },
  "vscode": {
   "interpreter": {
    "hash": "1a1af0ee75eeea9e2e1ee996c87e7a2b11a0bebd85af04bb136d915cefc0abce"
   }
  }
 },
 "nbformat": 4,
 "nbformat_minor": 2
}
