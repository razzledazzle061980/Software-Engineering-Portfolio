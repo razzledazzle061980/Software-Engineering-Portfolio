{
 "cells": [
  {
   "cell_type": "code",
   "execution_count": 1,
   "metadata": {},
   "outputs": [
    {
     "name": "stdout",
     "output_type": "stream",
     "text": [
      "Connection successful \n",
      "Insert result:   True\n",
      "Read result: <pymongo.cursor.Cursor object at 0x7f9fcb65f470>\n"
     ]
    }
   ],
   "source": [
    "from animalShelter import AnimalShelter\n",
    "from datetime import datetime\n",
    "\n",
    "# Instantiate AnimalShelter\n",
    "shelter = AnimalShelter(\"localhost\", 46319, \"AAC\", \"animals\", \"aacuser\", \"kxMi8CPhAJQj\")\n",
    "\n",
    "# Define animal data to be insert\n",
    "data =  {\n",
    "        \"1\": 10005,\n",
    "        \"age_upon_outcome\" : \"11 years\",\n",
    "        \"animal_id\" : \"A10005\",\n",
    "        \"animal_type\" : \"Dog\",\n",
    "        \"breed\" : \"Beagle\",\n",
    "        \"color\" : \"Black/White/Tan\",\n",
    "        \"date_of_birth\" : \"2012-04-05\",\n",
    "        \"datetime\" : datetime.now(),\n",
    "        \"monthyear\" : datetime.now(),\n",
    "        \"name\" : \"Max\",\n",
    "        \"outcome_subtype\" : \"\",\n",
    "        \"outcome_type\" : \"Purchase\",\n",
    "        \"sex_upon_outcome\" : \"Neutered Male\",\n",
    "        \"location_lat\" : 35.159870,\n",
    "        \"location_long\" : -84.875504,\n",
    "        \"age_upon_outcome_in_weeks\" : 5\n",
    "       }\n",
    "# Define animal data to search\n",
    "animal = {\"animal_id\": \"A10005\"}\n",
    "\n",
    "# Insert data into database\n",
    "insertResult = shelter.create(data)\n",
    "print(\"Insert result:  \", insertResult)\n",
    "\n",
    "# Read data from database\n",
    "readResult = shelter.read(animal)\n",
    "print(\"Read result:\", readResult)"
   ]
  }
 ],
 "metadata": {
  "kernelspec": {
   "display_name": "Python 3",
   "language": "python",
   "name": "python3"
  },
  "language_info": {
   "codemirror_mode": {
    "name": "ipython",
    "version": 3
   },
   "file_extension": ".py",
   "mimetype": "text/x-python",
   "name": "python",
   "nbconvert_exporter": "python",
   "pygments_lexer": "ipython3",
   "version": "3.6.9"
  }
 },
 "nbformat": 4,
 "nbformat_minor": 2
}
